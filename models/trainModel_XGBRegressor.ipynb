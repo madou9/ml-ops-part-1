{
 "cells": [
  {
   "cell_type": "code",
   "execution_count": 12,
   "id": "e69e1c3b-f090-499f-88e7-19b24016c5e2",
   "metadata": {},
   "outputs": [],
   "source": [
    "import pandas as pd\n",
    "from sklearn.model_selection import train_test_split\n",
    "\n",
    "# Load data\n",
    "df = pd.read_csv(\"../data/hour.csv\")\n",
    "\n",
    "# Feature engineering (if needed)\n",
    "df['atemp'] = df['atemp'] * 50\n",
    "df['hum'] = df['hum'] * 100\n",
    "df['windspeed'] = df['windspeed'] * 67\n",
    "\n",
    "# Drop unused columns\n",
    "df = df.drop(['casual', 'registered', 'dteday', 'instant'], axis=1)\n",
    "\n",
    "# Define features (X) and target (y)\n",
    "X = df.drop(['cnt'], axis=1)\n",
    "y = df['cnt']\n",
    "\n",
    "# Identify categorical columns (XGBoost will handle them internally)\n",
    "categorical_cols = ['season', 'mnth', 'hr', 'weekday', 'weathersit']\n",
    "\n"
   ]
  },
  {
   "cell_type": "code",
   "execution_count": 13,
   "id": "9c5bee97-7a34-459b-8eee-6e78e6247528",
   "metadata": {},
   "outputs": [
    {
     "name": "stdout",
     "output_type": "stream",
     "text": [
      "R² Score: 0.95\n"
     ]
    }
   ],
   "source": [
    "from xgboost import XGBRegressor\n",
    "from sklearn.metrics import r2_score\n",
    "\n",
    "# Initialize model (with basic hyperparameters)\n",
    "model = XGBRegressor(\n",
    "    n_estimators=100,  # Number of boosting rounds\n",
    "    max_depth=6,       # Tree depth (control complexity)\n",
    "    learning_rate=0.1, # Step size shrinkage\n",
    "    random_state=42,\n",
    "    enable_categorical=True  # Essential for categorical support!\n",
    ")\n",
    "\n",
    "# Train\n",
    "model.fit(X_train, y_train)\n",
    "\n",
    "# Predict\n",
    "y_pred = model.predict(X_test)\n",
    "\n",
    "# Evaluate\n",
    "r2 = r2_score(y_test, y_pred)\n",
    "print(f\"R² Score: {r2:.2f}\")"
   ]
  },
  {
   "cell_type": "code",
   "execution_count": 11,
   "id": "cac3a21f-212c-47c7-a1c0-5c8bdded3e58",
   "metadata": {},
   "outputs": [
    {
     "name": "stdout",
     "output_type": "stream",
     "text": [
      "Best params: {'learning_rate': 0.1, 'max_depth': 6, 'n_estimators': 200}\n",
      "Best R²: 0.9469375610351562\n"
     ]
    }
   ],
   "source": [
    "from sklearn.model_selection import GridSearchCV\n",
    "\n",
    "param_grid = {\n",
    "    'max_depth': [3, 6, 9],\n",
    "    'learning_rate': [0.01, 0.1, 0.2],\n",
    "    'n_estimators': [50, 100, 200]\n",
    "}\n",
    "\n",
    "grid = GridSearchCV(XGBRegressor(enable_categorical=True), param_grid, cv=3)\n",
    "grid.fit(X_train, y_train)\n",
    "\n",
    "print(\"Best params:\", grid.best_params_)\n",
    "print(\"Best R²:\", grid.best_score_)"
   ]
  }
 ],
 "metadata": {
  "kernelspec": {
   "display_name": "Python 3 (ipykernel)",
   "language": "python",
   "name": "python3"
  },
  "language_info": {
   "codemirror_mode": {
    "name": "ipython",
    "version": 3
   },
   "file_extension": ".py",
   "mimetype": "text/x-python",
   "name": "python",
   "nbconvert_exporter": "python",
   "pygments_lexer": "ipython3",
   "version": "3.9.6"
  }
 },
 "nbformat": 4,
 "nbformat_minor": 5
}
